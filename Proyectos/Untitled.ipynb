{
 "cells": [
  {
   "cell_type": "code",
   "execution_count": 11,
   "id": "e39eb34f",
   "metadata": {},
   "outputs": [
    {
     "name": "stdout",
     "output_type": "stream",
     "text": [
      "Entrada: n=1\n",
      "Salida: 1\n",
      "Explicación: La rana solo puede saltar una vez.\n"
     ]
    },
    {
     "data": {
      "text/plain": [
       "1"
      ]
     },
     "execution_count": 11,
     "metadata": {},
     "output_type": "execute_result"
    }
   ],
   "source": [
    "function contar_formas(n)\n",
    "    if n <= 1\n",
    "        println(\"Entrada: n=$n\")\n",
    "        println(\"Salida: 1\")\n",
    "        println(\"Explicación: La rana solo puede saltar una vez.\")\n",
    "        return 1\n",
    "    elseif n == 2\n",
    "        println(\"Entrada: n=$n\")\n",
    "        println(\"Salida: 2\")\n",
    "        println(\"Explicación: Hay dos formas de cruzar el río: 1. 1 salto + 1 salto, 2. 2 saltos.\")\n",
    "        return 2\n",
    "    else\n",
    "        resultados_previos = zeros(Int64, n+1)\n",
    "        resultados_previos[1] = 1\n",
    "        resultados_previos[2] = 2\n",
    "\n",
    "        for i in 3:n\n",
    "            resultados_previos[i] = resultados_previos[i-1] + resultados_previos[i-2]\n",
    "        end\n",
    "\n",
    "        println(\"Entrada: n=$n\")\n",
    "        println(\"Salida: $(resultados_previos[n])\")\n",
    "        print(\"Explicación: Hay $(resultados_previos[n]) formas de cruzar el río: \")\n",
    "        for i in 1:(n-2)\n",
    "            print(\"$(resultados_previos[i]), \")\n",
    "        end\n",
    "        println(\"$(resultados_previos[n-1]) y $(resultados_previos[n]).\")\n",
    "        return resultados_previos[n]\n",
    "    end\n",
    "end\n",
    "contar_formas(1)"
   ]
  },
  {
   "cell_type": "code",
   "execution_count": 10,
   "id": "efc54140",
   "metadata": {},
   "outputs": [
    {
     "ename": "LoadError",
     "evalue": "syntax: extra token \"tiempo\" after end of expression",
     "output_type": "error",
     "traceback": [
      "syntax: extra token \"tiempo\" after end of expression",
      "",
      "Stacktrace:",
      " [1] top-level scope",
      "   @ In[10]:1"
     ]
    }
   ],
   "source": [
    "El tiempo de ejecución de la función contar_formas(n) cambia exponencialmente a medida que n crece. \n",
    "Esto se debe a que el algoritmo utiliza la fórmula f(n) = f(n-1) + f(n-2) para calcular el número de formas posibles de cruzar el río. \n",
    "Cada vez que se calcula f(n), se deben calcular también f(n-1) y f(n-2), lo que significa que se deben realizar dos llamadas recursivas adicionales a la función.\n",
    "Por lo tanto, el tiempo de ejecución es proporcional a la secuencia de Fibonacci, que crece exponencialmente con n.\n",
    "\n",
    "En cuanto al espacio ocupado en memoria, la función utiliza un vector de tamaño n+1 llamado resultados_previos para almacenar los resultados previos. \n",
    "Por lo tanto, el espacio ocupado en memoria aumenta linealmente con n. \n",
    "Dado que el límite superior para n es 45, el vector tiene como máximo 46 elementos y no se espera que ocupe una cantidad significativa de memoria en la mayoría de las máquinas modernas.\n",
    "Sin embargo, si se desea trabajar con valores de n aún mayores, el espacio ocupado en memoria podría convertirse en un problema, ya que el vector crecerá en tamaño linealmente con n."
   ]
  },
  {
   "cell_type": "code",
   "execution_count": null,
   "id": "41d4d5cc",
   "metadata": {},
   "outputs": [],
   "source": [
    "La función que hemos creado para resolver el problema de la rana que cruza el río utiliza una técnica llamada \"memoización\" que nos permite evitar problemas de sobreflujo en la memoria al utilizar un enfoque iterativo en lugar de un enfoque recursivo.\n",
    "\n",
    "Sin embargo, debido a que la cantidad de memoria que utilizamos en cada iteración de la función aumenta linealmente con n, hay un límite superior para n que podemos manejar sin correr el riesgo de que nuestra función tenga un problema de sobreflujo. Este límite superior es de n=45. Por lo tanto, cualquier valor de n mayor a 45 podría causar problemas en la función y hacer que falle."
   ]
  }
 ],
 "metadata": {
  "kernelspec": {
   "display_name": "Julia 1.8.5",
   "language": "julia",
   "name": "julia-1.8"
  },
  "language_info": {
   "file_extension": ".jl",
   "mimetype": "application/julia",
   "name": "julia",
   "version": "1.8.5"
  }
 },
 "nbformat": 4,
 "nbformat_minor": 5
}
